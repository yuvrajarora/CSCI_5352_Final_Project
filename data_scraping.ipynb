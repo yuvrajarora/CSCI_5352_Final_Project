{
 "cells": [
  {
   "cell_type": "code",
   "execution_count": 1,
   "metadata": {},
   "outputs": [],
   "source": [
    "import requests\n",
    "from bs4 import BeautifulSoup\n",
    "import pickle"
   ]
  },
  {
   "cell_type": "code",
   "execution_count": 2,
   "metadata": {},
   "outputs": [],
   "source": [
    "resp = requests.get('https://en.wikipedia.org/wiki/List_of_S%26P_500_companies')\n",
    "soup = BeautifulSoup(resp.text, 'html5lib')\n",
    "table = soup.find('table', {'class': 'wikitable sortable'})\n",
    "\n",
    "sp500_dict = {}\n",
    "for row in table.findAll('tr')[1:]:\n",
    "    ticker = row.findAll('td')[0].text\n",
    "    company_name = row.findAll('td')[1].text\n",
    "    gics_sector = row.findAll('td')[3].text\n",
    "    gics_subindustry = row.findAll('td')[4].text\n",
    "    cik = row.findAll('td')[7].text\n",
    "    \n",
    "    sp500_dict[ticker] = {'company_name': company_name, \\\n",
    "                          'cik': cik, \\\n",
    "                          'gics': {'sector': gics_sector, \\\n",
    "                                   'sub_industry': gics_subindustry}}"
   ]
  }
 ],
 "metadata": {
  "kernelspec": {
   "display_name": "Python 3",
   "language": "python",
   "name": "python3"
  },
  "language_info": {
   "codemirror_mode": {
    "name": "ipython",
    "version": 3
   },
   "file_extension": ".py",
   "mimetype": "text/x-python",
   "name": "python",
   "nbconvert_exporter": "python",
   "pygments_lexer": "ipython3",
   "version": "3.6.1"
  }
 },
 "nbformat": 4,
 "nbformat_minor": 2
}
